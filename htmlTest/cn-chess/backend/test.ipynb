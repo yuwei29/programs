{
 "cells": [
  {
   "cell_type": "code",
   "execution_count": 1,
   "metadata": {},
   "outputs": [],
   "source": [
    "import game"
   ]
  },
  {
   "cell_type": "code",
   "execution_count": 6,
   "metadata": {},
   "outputs": [
    {
     "name": "stdout",
     "output_type": "stream",
     "text": [
      "[[0, 0, 0, 'S0', 0, 0, 'X0', 0, 0], [0, 0, 0, 0, 'S1', 'c0', 0, 0, 0], [0, 0, 0, 0, 0, 0, 0, 0, 'P0'], [0, 0, 0, 0, 'z2', 0, 0, 0, 'p0'], ['z0', 0, 0, 'c1', 0, 0, 0, 0, 0], [0, 0, 0, 0, 0, 0, 'z3', 0, 'z4'], [0, 0, 0, 0, 0, 0, 0, 0, 0], [0, 0, 'C0', 0, 0, 0, 0, 0, 'x1'], [0, 0, 'X1', 0, 's0', 0, 0, 0, 0], [0, 0, 0, 'j0', 0, 0, 'x0', 0, 0]]\n"
     ]
    },
    {
     "data": {
      "text/plain": [
       "'red'"
      ]
     },
     "execution_count": 6,
     "metadata": {},
     "output_type": "execute_result"
    }
   ],
   "source": [
    "game.run()"
   ]
  },
  {
   "cell_type": "code",
   "execution_count": 1,
   "metadata": {},
   "outputs": [],
   "source": [
    "import application"
   ]
  },
  {
   "cell_type": "code",
   "execution_count": 2,
   "metadata": {},
   "outputs": [
    {
     "name": "stdout",
     "output_type": "stream",
     "text": [
      " * Serving Flask app 'application'\n",
      " * Debug mode: off\n"
     ]
    },
    {
     "name": "stderr",
     "output_type": "stream",
     "text": [
      "WARNING: This is a development server. Do not use it in a production deployment. Use a production WSGI server instead.\n",
      " * Running on http://127.0.0.1:5000\n",
      "Press CTRL+C to quit\n",
      "127.0.0.1 - - [11/Sep/2022 14:25:32] \"GET /start HTTP/1.1\" 200 -\n",
      "127.0.0.1 - - [11/Sep/2022 14:25:47] \"OPTIONS /playerOnline HTTP/1.1\" 200 -\n",
      "[2022-09-11 14:25:47,907] ERROR in app: Exception on /playerOnline [POST]\n",
      "Traceback (most recent call last):\n",
      "  File \"d:\\anaconda3\\envs\\torch180env\\lib\\site-packages\\flask\\app.py\", line 2525, in wsgi_app\n",
      "    response = self.full_dispatch_request()\n",
      "  File \"d:\\anaconda3\\envs\\torch180env\\lib\\site-packages\\flask\\app.py\", line 1822, in full_dispatch_request\n",
      "    rv = self.handle_user_exception(e)\n",
      "  File \"d:\\anaconda3\\envs\\torch180env\\lib\\site-packages\\flask_cors\\extension.py\", line 165, in wrapped_function\n",
      "    return cors_after_request(app.make_response(f(*args, **kwargs)))\n",
      "  File \"d:\\anaconda3\\envs\\torch180env\\lib\\site-packages\\flask\\app.py\", line 1820, in full_dispatch_request\n",
      "    rv = self.dispatch_request()\n",
      "  File \"d:\\anaconda3\\envs\\torch180env\\lib\\site-packages\\flask\\app.py\", line 1796, in dispatch_request\n",
      "    return self.ensure_sync(self.view_functions[rule.endpoint])(**view_args)\n",
      "  File \"d:\\personal\\programs\\htmlTest\\cn-chess\\backend\\application.py\", line 26, in getPlayerInput\n",
      "    s1.red_play(act)\n",
      "  File \"d:\\personal\\programs\\htmlTest\\cn-chess\\backend\\service\\hci_service.py\", line 19, in red_play\n",
      "    _,self.winner = game.update(act,self.p_red,self.p_black,self.board)\n",
      "  File \"d:\\personal\\programs\\htmlTest\\cn-chess\\backend\\game_logic\\game.py\", line 20, in update\n",
      "    p1.pieces.remove((piece,(x,y)))\n",
      "ValueError: list.remove(x): x not in list\n",
      "127.0.0.1 - - [11/Sep/2022 14:25:47] \"POST /playerOnline HTTP/1.1\" 500 -\n",
      "127.0.0.1 - - [11/Sep/2022 14:25:48] \"GET /ai HTTP/1.1\" 200 -\n"
     ]
    }
   ],
   "source": [
    "application.app.run()"
   ]
  },
  {
   "cell_type": "code",
   "execution_count": 3,
   "metadata": {},
   "outputs": [
    {
     "name": "stdout",
     "output_type": "stream",
     "text": [
      "red\n"
     ]
    }
   ],
   "source": [
    "print(application.s1.winner)"
   ]
  },
  {
   "cell_type": "code",
   "execution_count": 4,
   "metadata": {},
   "outputs": [
    {
     "name": "stdout",
     "output_type": "stream",
     "text": [
      "[[0, 0, 0, 0, 0, 0, 0, 0, 0], [0, 0, 0, 0, 0, 'c0', 0, 0, 0], [0, 0, 0, 0, 'z2', 0, 0, 0, 0], [0, 0, 0, 0, 0, 0, 0, 0, 0], [0, 0, 0, 0, 0, 0, 0, 0, 0], [0, 0, 0, 'p1', 0, 0, 0, 0, 0], ['z0', 0, 0, 0, 0, 0, 'z3', 0, 'z4'], [0, 0, 0, 0, 'p0', 0, 0, 0, 0], [0, 0, 0, 0, 0, 0, 0, 0, 0], [0, 0, 'x0', 's0', 'j0', 's1', 'x1', 'm1', 'c1']]\n"
     ]
    }
   ],
   "source": [
    "print(application.s1.board)"
   ]
  }
 ],
 "metadata": {
  "kernelspec": {
   "display_name": "Python 3.8.13 ('torch180env')",
   "language": "python",
   "name": "python3"
  },
  "language_info": {
   "codemirror_mode": {
    "name": "ipython",
    "version": 3
   },
   "file_extension": ".py",
   "mimetype": "text/x-python",
   "name": "python",
   "nbconvert_exporter": "python",
   "pygments_lexer": "ipython3",
   "version": "3.8.13"
  },
  "orig_nbformat": 4,
  "vscode": {
   "interpreter": {
    "hash": "c68ab8fef8d09dd8a15d6c1b1236e2581609f78619e152c58bb57b509b8938e0"
   }
  }
 },
 "nbformat": 4,
 "nbformat_minor": 2
}
