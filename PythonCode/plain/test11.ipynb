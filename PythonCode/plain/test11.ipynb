{
 "cells": [
  {
   "cell_type": "code",
   "execution_count": 1,
   "metadata": {},
   "outputs": [],
   "source": [
    "def f1(x):\n",
    "    return -2*pow(x,4)+3*pow(x,3)+pow(x,2)+5*x+1.23\n",
    "def f2(x):\n",
    "    return pow(x,4)+2.32*pow(x,3)+0.167*pow(x,2)+3.52*x+1.75\n",
    "def f3(x):\n",
    "    return -pow(x,4)+1.67*pow(x,3)+1.32*pow(x,2)-2.57*x-5.3 \n",
    "f=[f1,f2,f3]"
   ]
  },
  {
   "cell_type": "code",
   "execution_count": 2,
   "metadata": {},
   "outputs": [
    {
     "name": "stdout",
     "output_type": "stream",
     "text": [
      "300\n"
     ]
    }
   ],
   "source": [
    "print(100+200)"
   ]
  },
  {
   "cell_type": "code",
   "execution_count": 3,
   "metadata": {},
   "outputs": [],
   "source": [
    "def g(x):\n",
    "    if x<100:\n",
    "        return -2*pow(x,4)+3*pow(x,3)+pow(x,2)+5*x+1.23\n",
    "    elif x<500:\n",
    "        return pow(x,4)+2.32*pow(x,3)+0.167*pow(x,2)+3.52*x+1.75\n",
    "    else:\n",
    "        return -pow(x,4)+1.67*pow(x,3)+1.32*pow(x,2)-2.57*x-5.3"
   ]
  },
  {
   "cell_type": "code",
   "execution_count": 4,
   "metadata": {},
   "outputs": [],
   "source": [
    "import time\n",
    "t1 = time.time()"
   ]
  },
  {
   "cell_type": "code",
   "execution_count": 5,
   "metadata": {},
   "outputs": [
    {
     "data": {
      "text/plain": [
       "13.658707857131958"
      ]
     },
     "execution_count": 5,
     "metadata": {},
     "output_type": "execute_result"
    }
   ],
   "source": [
    "t2 = time.time()\n",
    "t2-t1"
   ]
  },
  {
   "cell_type": "code",
   "execution_count": 68,
   "metadata": {},
   "outputs": [],
   "source": [
    "l1,l2 = [0.]*int(1e8),[0.]*int(1e8)"
   ]
  },
  {
   "cell_type": "code",
   "execution_count": 10,
   "metadata": {},
   "outputs": [],
   "source": [
    "small,mid,large = int(1e5),int(2e6),int(1e8)"
   ]
  },
  {
   "cell_type": "code",
   "execution_count": 55,
   "metadata": {},
   "outputs": [
    {
     "data": {
      "text/plain": [
       "0.08671808242797852"
      ]
     },
     "execution_count": 55,
     "metadata": {},
     "output_type": "execute_result"
    }
   ],
   "source": [
    "t1 = time.time()\n",
    "for i in range(small):\n",
    "    l1[i]=g(i)\n",
    "t2 = time.time()\n",
    "t2-t1"
   ]
  },
  {
   "cell_type": "code",
   "execution_count": 29,
   "metadata": {},
   "outputs": [
    {
     "data": {
      "text/plain": [
       "0.0878136157989502"
      ]
     },
     "execution_count": 29,
     "metadata": {},
     "output_type": "execute_result"
    }
   ],
   "source": [
    "l3=[]\n",
    "t1 = time.time()\n",
    "for i in range(small):\n",
    "    l3.append(g(i))\n",
    "t2 = time.time()\n",
    "t2-t1"
   ]
  },
  {
   "cell_type": "code",
   "execution_count": 52,
   "metadata": {},
   "outputs": [
    {
     "data": {
      "text/plain": [
       "0.26667308807373047"
      ]
     },
     "execution_count": 52,
     "metadata": {},
     "output_type": "execute_result"
    }
   ],
   "source": [
    "t1 = time.time()\n",
    "for i in range(small):\n",
    "    l1[i]=(i<100)*(-2*pow(i,4)+3*pow(i,3)+pow(i,2)+5*i+1.23)+(100<=i<500)*(pow(i,4)+2.32*pow(i,3)+0.167*pow(i,2)+3.52*i+1.75)+ \\\n",
    "    (i>=500)*(-pow(i,4)+1.67*pow(i,3)+1.32*pow(i,2)-2.57*i-5.3)\n",
    "t2 = time.time()\n",
    "t2-t1"
   ]
  },
  {
   "cell_type": "code",
   "execution_count": 54,
   "metadata": {},
   "outputs": [
    {
     "data": {
      "text/plain": [
       "[1.23,\n",
       " 8.23,\n",
       " 7.23,\n",
       " -55.77,\n",
       " -282.77,\n",
       " -823.77,\n",
       " -1876.77,\n",
       " -3687.77,\n",
       " -6550.77,\n",
       " -10807.77,\n",
       " -16848.77,\n",
       " -25111.77,\n",
       " -36082.77,\n",
       " -50295.77,\n",
       " -68332.77,\n",
       " -90823.77,\n",
       " -118446.77,\n",
       " -151927.77,\n",
       " -192040.77,\n",
       " -239607.77]"
      ]
     },
     "execution_count": 54,
     "metadata": {},
     "output_type": "execute_result"
    }
   ],
   "source": [
    "l1[0:20]"
   ]
  },
  {
   "cell_type": "code",
   "execution_count": 56,
   "metadata": {},
   "outputs": [
    {
     "data": {
      "text/plain": [
       "[1.23,\n",
       " 8.23,\n",
       " 7.23,\n",
       " -55.77,\n",
       " -282.77,\n",
       " -823.77,\n",
       " -1876.77,\n",
       " -3687.77,\n",
       " -6550.77,\n",
       " -10807.77,\n",
       " -16848.77,\n",
       " -25111.77,\n",
       " -36082.77,\n",
       " -50295.77,\n",
       " -68332.77,\n",
       " -90823.77,\n",
       " -118446.77,\n",
       " -151927.77,\n",
       " -192040.77,\n",
       " -239607.77]"
      ]
     },
     "execution_count": 56,
     "metadata": {},
     "output_type": "execute_result"
    }
   ],
   "source": [
    "l1[:20]"
   ]
  },
  {
   "cell_type": "code",
   "execution_count": 69,
   "metadata": {},
   "outputs": [
    {
     "data": {
      "text/plain": [
       "0.08526921272277832"
      ]
     },
     "execution_count": 69,
     "metadata": {},
     "output_type": "execute_result"
    }
   ],
   "source": [
    "t1 = time.time()\n",
    "for i in range(small):\n",
    "    l2[i]=g(i) #f[(i<100)*0+(100<=i<500)*1+(i>=500)*2](i)\n",
    "t2 = time.time()\n",
    "t2-t1"
   ]
  },
  {
   "cell_type": "code",
   "execution_count": 65,
   "metadata": {},
   "outputs": [
    {
     "data": {
      "text/plain": [
       "<function __main__.f3(x)>"
      ]
     },
     "execution_count": 65,
     "metadata": {},
     "output_type": "execute_result"
    }
   ],
   "source": [
    "i=501\n",
    "f[(i<100)*0+(100<=i<500)*1+(i>=500)*2]"
   ]
  },
  {
   "cell_type": "code",
   "execution_count": 88,
   "metadata": {},
   "outputs": [
    {
     "data": {
      "text/plain": [
       "0.10398983955383301"
      ]
     },
     "execution_count": 88,
     "metadata": {},
     "output_type": "execute_result"
    }
   ],
   "source": [
    "t1 = time.time()\n",
    "for i in range(small):\n",
    "    l2[i]=f[(i<100)*0+(100<=i<500)*1+(i>=500)*2](i)\n",
    "t2 = time.time()\n",
    "t2-t1"
   ]
  },
  {
   "cell_type": "code",
   "execution_count": 71,
   "metadata": {},
   "outputs": [
    {
     "data": {
      "text/plain": [
       "[1.23,\n",
       " 8.23,\n",
       " 7.23,\n",
       " -55.77,\n",
       " -282.77,\n",
       " -823.77,\n",
       " -1876.77,\n",
       " -3687.77,\n",
       " -6550.77,\n",
       " -10807.77,\n",
       " -16848.77,\n",
       " -25111.77,\n",
       " -36082.77,\n",
       " -50295.77,\n",
       " -68332.77,\n",
       " -90823.77,\n",
       " -118446.77,\n",
       " -151927.77,\n",
       " -192040.77,\n",
       " -239607.77]"
      ]
     },
     "execution_count": 71,
     "metadata": {},
     "output_type": "execute_result"
    }
   ],
   "source": [
    "l2[:20]"
   ]
  },
  {
   "cell_type": "code",
   "execution_count": 89,
   "metadata": {},
   "outputs": [
    {
     "data": {
      "text/plain": [
       "2.2405760288238525"
      ]
     },
     "execution_count": 89,
     "metadata": {},
     "output_type": "execute_result"
    }
   ],
   "source": [
    "t1 = time.time()\n",
    "for i in range(mid):\n",
    "    l2[i]=f[(i<100)*0+(100<=i<500)*1+(i>=500)*2](i)\n",
    "t2 = time.time()\n",
    "t2-t1"
   ]
  },
  {
   "cell_type": "code",
   "execution_count": 93,
   "metadata": {},
   "outputs": [
    {
     "data": {
      "text/plain": [
       "1.9776256084442139"
      ]
     },
     "execution_count": 93,
     "metadata": {},
     "output_type": "execute_result"
    }
   ],
   "source": [
    "t1 = time.time()\n",
    "for i in range(mid):\n",
    "    l2[i]=g(i)\n",
    "t2 = time.time()\n",
    "t2-t1"
   ]
  },
  {
   "cell_type": "code",
   "execution_count": 110,
   "metadata": {},
   "outputs": [
    {
     "data": {
      "text/plain": [
       "0.11300802230834961"
      ]
     },
     "execution_count": 110,
     "metadata": {},
     "output_type": "execute_result"
    }
   ],
   "source": [
    "t1 = time.time()\n",
    "for i in range(mid):\n",
    "    l2[i]=i%2\n",
    "t2 = time.time()\n",
    "t2-t1"
   ]
  },
  {
   "cell_type": "code",
   "execution_count": 111,
   "metadata": {},
   "outputs": [
    {
     "data": {
      "text/plain": [
       "0.12437605857849121"
      ]
     },
     "execution_count": 111,
     "metadata": {},
     "output_type": "execute_result"
    }
   ],
   "source": [
    "t1 = time.time()\n",
    "for i in range(mid):\n",
    "    if i%2:\n",
    "        l2[i]=1\n",
    "    else:\n",
    "        l2[i]=0\n",
    "t2 = time.time()\n",
    "t2-t1"
   ]
  },
  {
   "cell_type": "markdown",
   "metadata": {},
   "source": [
    "强行不使用 if else   似乎对性能没有任何提升  "
   ]
  }
 ],
 "metadata": {
  "kernelspec": {
   "display_name": "Python 3 (ipykernel)",
   "language": "python",
   "name": "python3"
  },
  "language_info": {
   "codemirror_mode": {
    "name": "ipython",
    "version": 3
   },
   "file_extension": ".py",
   "mimetype": "text/x-python",
   "name": "python",
   "nbconvert_exporter": "python",
   "pygments_lexer": "ipython3",
   "version": "3.9.12"
  },
  "vscode": {
   "interpreter": {
    "hash": "2f27388ea75cd5d004075a03d2ea19ed5af64b950a61ef59bf92c48ad48ceb1d"
   }
  }
 },
 "nbformat": 4,
 "nbformat_minor": 2
}
