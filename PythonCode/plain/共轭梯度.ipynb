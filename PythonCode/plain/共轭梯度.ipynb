{
 "cells": [
  {
   "cell_type": "code",
   "execution_count": 1,
   "id": "1f82ce98",
   "metadata": {},
   "outputs": [],
   "source": [
    "import numpy as np"
   ]
  },
  {
   "attachments": {},
   "cell_type": "raw",
   "id": "ea10613d",
   "metadata": {},
   "source": [
    "https://optimization.cbe.cornell.edu/index.php?title=Conjugate_gradient_methods"
   ]
  },
  {
   "cell_type": "code",
   "execution_count": 2,
   "id": "8efba251",
   "metadata": {},
   "outputs": [],
   "source": [
    "from math import sqrt"
   ]
  },
  {
   "cell_type": "code",
   "execution_count": 5,
   "id": "f2b12447",
   "metadata": {},
   "outputs": [],
   "source": [
    "def axmul(a,b):\n",
    "    res=[]\n",
    "    l=len(b)\n",
    "    for v in a:\n",
    "        res.append(sum([v[i]*b[i] for i in range(l)]))\n",
    "    return res\n",
    "def vdot(a,b):\n",
    "    l=len(a)\n",
    "    return sum([a[i]*b[i] for i in range(l)])\n",
    "def vsub(a,b):\n",
    "    return [a[i]-b[i] for i in range(len(a))]\n",
    "def ax(a,x):\n",
    "    return [a*e for e in x]\n",
    "def l2(a):\n",
    "    return sqrt(sum([e*e for e in a]))"
   ]
  },
  {
   "cell_type": "code",
   "execution_count": 6,
   "id": "df53ad5f",
   "metadata": {},
   "outputs": [],
   "source": [
    "def f(x,a,b):\n",
    "    e=0.001\n",
    "    preg=1\n",
    "    g=vsub(b,axmul(a,x))\n",
    "    n=2\n",
    "    d=g\n",
    "    for i in range(n):\n",
    "        if l2(g)<e:\n",
    "            return x\n",
    "        if i>0:\n",
    "            beta= -vdot(g,g)/vdot(preg,preg)\n",
    "            d=vsub(g,ax(beta,d))\n",
    "        alpha = vdot(g,g)/vdot(d,axmul(a,d))\n",
    "        x = vsub(x,ax(-alpha,d))\n",
    "        preg = g\n",
    "        g = vsub(g,ax(alpha,axmul(a,d)) )\n",
    "    return x"
   ]
  },
  {
   "cell_type": "code",
   "execution_count": 8,
   "id": "2a9db327",
   "metadata": {},
   "outputs": [],
   "source": [
    "a=[[4,1],[1,3]]\n",
    "b=[1,2]\n",
    "x=[0,0]"
   ]
  },
  {
   "cell_type": "code",
   "execution_count": 9,
   "id": "bd83b5c9",
   "metadata": {},
   "outputs": [
    {
     "data": {
      "text/plain": [
       "[0.09090909090909091, 0.6363636363636364]"
      ]
     },
     "execution_count": 9,
     "metadata": {},
     "output_type": "execute_result"
    }
   ],
   "source": [
    "f(x,a,b)"
   ]
  },
  {
   "cell_type": "code",
   "execution_count": 10,
   "id": "054a3b9b",
   "metadata": {},
   "outputs": [],
   "source": [
    "a=[[5,1],[1,8]]\n",
    "b=[3,2]\n",
    "x=[0,0]"
   ]
  },
  {
   "cell_type": "code",
   "execution_count": 11,
   "id": "bb3a3b5d",
   "metadata": {},
   "outputs": [
    {
     "data": {
      "text/plain": [
       "[0.5641025641025641, 0.17948717948717952]"
      ]
     },
     "execution_count": 11,
     "metadata": {},
     "output_type": "execute_result"
    }
   ],
   "source": [
    "f(x,a,b)"
   ]
  },
  {
   "cell_type": "code",
   "execution_count": null,
   "id": "5b8496b1",
   "metadata": {},
   "outputs": [],
   "source": []
  }
 ],
 "metadata": {
  "kernelspec": {
   "display_name": "Python [conda env:root] *",
   "language": "python",
   "name": "conda-root-py"
  },
  "language_info": {
   "codemirror_mode": {
    "name": "ipython",
    "version": 3
   },
   "file_extension": ".py",
   "mimetype": "text/x-python",
   "name": "python",
   "nbconvert_exporter": "python",
   "pygments_lexer": "ipython3",
   "version": "3.9.12"
  }
 },
 "nbformat": 4,
 "nbformat_minor": 5
}
