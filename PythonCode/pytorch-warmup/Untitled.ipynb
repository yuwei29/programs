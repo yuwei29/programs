{
 "cells": [
  {
   "cell_type": "code",
   "execution_count": 1,
   "id": "db3bf6d8",
   "metadata": {},
   "outputs": [],
   "source": [
    "import torch"
   ]
  },
  {
   "cell_type": "code",
   "execution_count": 2,
   "id": "b3eeba82",
   "metadata": {},
   "outputs": [],
   "source": [
    "x=torch.zeros(3,3)\n",
    "x[0][1]=1"
   ]
  },
  {
   "cell_type": "code",
   "execution_count": 3,
   "id": "7f0f0d16",
   "metadata": {},
   "outputs": [
    {
     "name": "stdout",
     "output_type": "stream",
     "text": [
      "tensor([[0., 1., 0.],\n",
      "        [0., 0., 0.],\n",
      "        [0., 0., 0.]])\n"
     ]
    }
   ],
   "source": [
    "print(x)"
   ]
  },
  {
   "cell_type": "code",
   "execution_count": 2,
   "id": "f46fac16",
   "metadata": {},
   "outputs": [
    {
     "name": "stdout",
     "output_type": "stream",
     "text": [
      "False\n"
     ]
    }
   ],
   "source": [
    "x=torch.rand(3,3)\n",
    "print(x.requires_grad)"
   ]
  },
  {
   "cell_type": "code",
   "execution_count": 3,
   "id": "fd52a6b2",
   "metadata": {},
   "outputs": [],
   "source": [
    "x.requires_grad = True\n",
    "y = torch.rand(3,3,requires_grad=True)\n",
    "t=x+2*y"
   ]
  },
  {
   "cell_type": "code",
   "execution_count": 4,
   "id": "a51b8a33",
   "metadata": {},
   "outputs": [
    {
     "data": {
      "text/plain": [
       "tensor([[1.1873, 2.2245, 1.2833],\n",
       "        [1.6637, 1.6832, 2.6307],\n",
       "        [2.0805, 1.7799, 1.2985]], grad_fn=<AddBackward0>)"
      ]
     },
     "execution_count": 4,
     "metadata": {},
     "output_type": "execute_result"
    }
   ],
   "source": [
    "t"
   ]
  },
  {
   "cell_type": "code",
   "execution_count": 6,
   "id": "54b2373a",
   "metadata": {},
   "outputs": [],
   "source": [
    "z = t.sum()"
   ]
  },
  {
   "cell_type": "code",
   "execution_count": 7,
   "id": "7777cda1",
   "metadata": {},
   "outputs": [],
   "source": [
    "z.backward()"
   ]
  },
  {
   "cell_type": "code",
   "execution_count": 8,
   "id": "4d3d3d32",
   "metadata": {},
   "outputs": [
    {
     "data": {
      "text/plain": [
       "tensor([[2., 2., 2.],\n",
       "        [2., 2., 2.],\n",
       "        [2., 2., 2.]])"
      ]
     },
     "execution_count": 8,
     "metadata": {},
     "output_type": "execute_result"
    }
   ],
   "source": [
    "y.grad"
   ]
  },
  {
   "cell_type": "code",
   "execution_count": 18,
   "id": "c6b5fff5",
   "metadata": {},
   "outputs": [
    {
     "data": {
      "text/plain": [
       "tensor([[1., 1., 1.],\n",
       "        [1., 1., 1.],\n",
       "        [1., 1., 1.]])"
      ]
     },
     "execution_count": 18,
     "metadata": {},
     "output_type": "execute_result"
    }
   ],
   "source": [
    "x.grad"
   ]
  },
  {
   "cell_type": "code",
   "execution_count": 19,
   "id": "c0373e4e",
   "metadata": {},
   "outputs": [
    {
     "data": {
      "text/plain": [
       "tensor([[2., 2., 2.],\n",
       "        [2., 2., 2.],\n",
       "        [2., 2., 2.]])"
      ]
     },
     "execution_count": 19,
     "metadata": {},
     "output_type": "execute_result"
    }
   ],
   "source": [
    "y.grad"
   ]
  },
  {
   "cell_type": "code",
   "execution_count": 21,
   "id": "e94eb5d6",
   "metadata": {},
   "outputs": [
    {
     "data": {
      "text/plain": [
       "'1.8.0'"
      ]
     },
     "execution_count": 21,
     "metadata": {},
     "output_type": "execute_result"
    }
   ],
   "source": [
    "torch.__version__"
   ]
  },
  {
   "cell_type": "code",
   "execution_count": 2,
   "id": "6630ad1a",
   "metadata": {},
   "outputs": [],
   "source": [
    "from torch import nn"
   ]
  },
  {
   "cell_type": "code",
   "execution_count": 3,
   "id": "36d4ca0e",
   "metadata": {},
   "outputs": [],
   "source": [
    "class SimpleNet(nn.Module):\n",
    "    def __init__(self):\n",
    "        super(SimpleNet, self).__init__()\n",
    "        self.linear_relu_stack = nn.Sequential(\n",
    "            nn.Linear(1,20),\n",
    "            nn.ReLU(),\n",
    "            nn.Linear(20, 10),\n",
    "            nn.ReLU(),\n",
    "            nn.Linear(10, 1),\n",
    "        )\n",
    "\n",
    "    def forward(self, x):\n",
    "        x = self.linear_relu_stack(x)\n",
    "        return x"
   ]
  },
  {
   "cell_type": "code",
   "execution_count": 4,
   "id": "1d0440d1",
   "metadata": {},
   "outputs": [
    {
     "name": "stdout",
     "output_type": "stream",
     "text": [
      "Using cuda device\n"
     ]
    }
   ],
   "source": [
    "device = \"cuda\" if torch.cuda.is_available() else \"cpu\"\n",
    "print(f\"Using {device} device\")"
   ]
  },
  {
   "cell_type": "code",
   "execution_count": 36,
   "id": "2a79f96a",
   "metadata": {},
   "outputs": [
    {
     "name": "stdout",
     "output_type": "stream",
     "text": [
      "SimpleNet(\n",
      "  (linear_relu_stack): Sequential(\n",
      "    (0): Linear(in_features=1, out_features=20, bias=True)\n",
      "    (1): ReLU()\n",
      "    (2): Linear(in_features=20, out_features=10, bias=True)\n",
      "    (3): ReLU()\n",
      "    (4): Linear(in_features=10, out_features=1, bias=True)\n",
      "  )\n",
      ")\n"
     ]
    }
   ],
   "source": [
    "model = SimpleNet().to(device)\n",
    "print(model)"
   ]
  },
  {
   "cell_type": "code",
   "execution_count": 6,
   "id": "db10ef8d",
   "metadata": {},
   "outputs": [],
   "source": [
    "def f1(x):\n",
    "    return f2(x)+3\n",
    "\n",
    "def f2(x):\n",
    "    return x+5"
   ]
  },
  {
   "cell_type": "code",
   "execution_count": 7,
   "id": "7dbfb133",
   "metadata": {},
   "outputs": [
    {
     "name": "stdout",
     "output_type": "stream",
     "text": [
      "18\n"
     ]
    }
   ],
   "source": [
    "print(f1(10))"
   ]
  },
  {
   "cell_type": "markdown",
   "id": "bd1102e0",
   "metadata": {},
   "source": [
    "Python supports \"caller definition before callee definition\", too"
   ]
  },
  {
   "cell_type": "code",
   "execution_count": null,
   "id": "0a465c6f",
   "metadata": {},
   "outputs": [],
   "source": [
    "def train_loop(dataloader, model, loss_fn, optimizer):\n",
    "    size = len(dataloader.dataset)\n",
    "    for batch, (X, y) in enumerate(dataloader):\n",
    "        # Compute prediction and loss\n",
    "        pred = model(X)\n",
    "        loss = loss_fn(pred, y)\n",
    "\n",
    "        # Backpropagation\n",
    "        optimizer.zero_grad()\n",
    "        loss.backward()\n",
    "        optimizer.step()\n",
    "\n",
    "        if batch % 100 == 0:\n",
    "            loss, current = loss.item(), batch * len(X)\n",
    "            print(f\"loss: {loss:>7f}  [{current:>5d}/{size:>5d}]\")\n",
    "\n",
    "\n",
    "def test_loop(dataloader, model, loss_fn):\n",
    "    size = len(dataloader.dataset)\n",
    "    num_batches = len(dataloader)\n",
    "    test_loss, correct = 0, 0\n",
    "\n",
    "    with torch.no_grad():\n",
    "        for X, y in dataloader:\n",
    "            pred = model(X)\n",
    "            test_loss += loss_fn(pred, y).item()\n",
    "            correct += (pred.argmax(1) == y).type(torch.float).sum().item()\n",
    "\n",
    "    test_loss /= num_batches\n",
    "    correct /= size\n",
    "    print(f\"Test Error: \\n Accuracy: {(100*correct):>0.1f}%, Avg loss: {test_loss:>8f} \\n\")"
   ]
  },
  {
   "cell_type": "code",
   "execution_count": 8,
   "id": "37ba9253",
   "metadata": {},
   "outputs": [],
   "source": [
    "import numpy as np"
   ]
  },
  {
   "cell_type": "code",
   "execution_count": 22,
   "id": "f94330b4",
   "metadata": {},
   "outputs": [],
   "source": [
    "x_values = [i for i in range(10000)]\n",
    "y_values = [2*i+5 for i in range(10000)]\n",
    "x_train = np.array(x_values,dtype=np.float32)\n",
    "y_train = np.array(y_values,dtype=np.float32)\n",
    "x_train = x_train.reshape(-1,1)\n",
    "y_train = y_train.reshape(-1,1)"
   ]
  },
  {
   "cell_type": "code",
   "execution_count": 23,
   "id": "41c1ce0f",
   "metadata": {},
   "outputs": [],
   "source": [
    "inputs = torch.from_numpy(x_train)\n",
    "labels = torch.from_numpy(y_train)"
   ]
  },
  {
   "cell_type": "code",
   "execution_count": 24,
   "id": "ef446226",
   "metadata": {},
   "outputs": [],
   "source": [
    "inputs = inputs.cuda()\n",
    "labels = labels.cuda()"
   ]
  },
  {
   "cell_type": "code",
   "execution_count": 34,
   "id": "edbf3e3d",
   "metadata": {},
   "outputs": [
    {
     "data": {
      "text/plain": [
       "tensor([[5.0000e+00],\n",
       "        [7.0000e+00],\n",
       "        [9.0000e+00],\n",
       "        ...,\n",
       "        [1.9999e+04],\n",
       "        [2.0001e+04],\n",
       "        [2.0003e+04]], device='cuda:0')"
      ]
     },
     "execution_count": 34,
     "metadata": {},
     "output_type": "execute_result"
    }
   ],
   "source": [
    "labels"
   ]
  },
  {
   "cell_type": "code",
   "execution_count": 41,
   "id": "45413a1c",
   "metadata": {},
   "outputs": [],
   "source": [
    "epochs = 100\n",
    "loss_fn = nn.MSELoss()\n",
    "learning_rate = 1e-10\n",
    "optimizer = torch.optim.SGD(model.parameters(), lr=learning_rate)"
   ]
  },
  {
   "cell_type": "code",
   "execution_count": 56,
   "id": "197ef28b",
   "metadata": {},
   "outputs": [
    {
     "name": "stdout",
     "output_type": "stream",
     "text": [
      "loss: 20.382068634033203 \n",
      "loss: 20.495601654052734 \n",
      "loss: 35.64656066894531 \n",
      "loss: 20.133028030395508 \n",
      "loss: 20.246835708618164 \n",
      "loss: 20.371545791625977 \n",
      "loss: 20.495601654052734 \n",
      "loss: 35.673675537109375 \n",
      "loss: 20.126237869262695 \n",
      "loss: 20.235137939453125 \n"
     ]
    }
   ],
   "source": [
    "for i in range(epochs):\n",
    "    pred = model(inputs)\n",
    "    loss = loss_fn(pred,labels)\n",
    "    \n",
    "    optimizer.zero_grad()\n",
    "    loss.backward()\n",
    "    optimizer.step()\n",
    "    \n",
    "    if i % 10 == 0:\n",
    "            loss = loss.item()\n",
    "            print(f\"loss: {loss} \")"
   ]
  },
  {
   "cell_type": "code",
   "execution_count": 57,
   "id": "b04807c1",
   "metadata": {},
   "outputs": [
    {
     "data": {
      "text/plain": [
       "tensor([19.4829], device='cuda:0', grad_fn=<AddBackward0>)"
      ]
     },
     "execution_count": 57,
     "metadata": {},
     "output_type": "execute_result"
    }
   ],
   "source": [
    "model(torch.tensor([10.0],device=device))"
   ]
  },
  {
   "cell_type": "code",
   "execution_count": 59,
   "id": "7e52e2e3",
   "metadata": {},
   "outputs": [
    {
     "data": {
      "text/plain": [
       "tensor([9999.1650], device='cuda:0', grad_fn=<AddBackward0>)"
      ]
     },
     "execution_count": 59,
     "metadata": {},
     "output_type": "execute_result"
    }
   ],
   "source": [
    "model(torch.tensor([5000.0],device=device))"
   ]
  },
  {
   "cell_type": "code",
   "execution_count": 60,
   "id": "d00a7f95",
   "metadata": {},
   "outputs": [],
   "source": [
    "class Net(nn.Module):\n",
    "    def __init__(self):\n",
    "        super(Net, self).__init__()\n",
    "        self.linear=nn.Linear(1,1)\n",
    "\n",
    "    def forward(self, x):\n",
    "        x = self.linear(x)\n",
    "        return x"
   ]
  },
  {
   "cell_type": "code",
   "execution_count": 61,
   "id": "1221cb92",
   "metadata": {},
   "outputs": [],
   "source": [
    "model2 = Net().to(device)"
   ]
  },
  {
   "cell_type": "code",
   "execution_count": 64,
   "id": "20afed07",
   "metadata": {},
   "outputs": [],
   "source": [
    "optimizer2 = torch.optim.SGD(model2.parameters(), lr=learning_rate)"
   ]
  },
  {
   "cell_type": "code",
   "execution_count": 81,
   "id": "a88f6538",
   "metadata": {},
   "outputs": [
    {
     "name": "stdout",
     "output_type": "stream",
     "text": [
      "loss: 22.148252487182617 \n",
      "loss: 22.148252487182617 \n",
      "loss: 22.148252487182617 \n",
      "loss: 22.148252487182617 \n",
      "loss: 22.148252487182617 \n",
      "loss: 22.148252487182617 \n",
      "loss: 74.53807067871094 \n",
      "loss: 74.53807067871094 \n",
      "loss: 74.53807067871094 \n",
      "loss: 22.148252487182617 \n"
     ]
    }
   ],
   "source": [
    "for i in range(epochs):\n",
    "    pred = model2(inputs)\n",
    "    loss = loss_fn(pred,labels)\n",
    "    \n",
    "    optimizer2.zero_grad()\n",
    "    loss.backward()\n",
    "    optimizer2.step()\n",
    "    \n",
    "    if i % 10 == 0:\n",
    "            loss = loss.item()\n",
    "            print(f\"loss: {loss} \")"
   ]
  },
  {
   "cell_type": "code",
   "execution_count": 97,
   "id": "5801fe65",
   "metadata": {},
   "outputs": [
    {
     "data": {
      "text/plain": [
       "tensor([60.2127], device='cuda:0', grad_fn=<AddBackward0>)"
      ]
     },
     "execution_count": 97,
     "metadata": {},
     "output_type": "execute_result"
    }
   ],
   "source": [
    "model2(torch.tensor([30.000000],device=device))"
   ]
  },
  {
   "cell_type": "code",
   "execution_count": 86,
   "id": "559cc436",
   "metadata": {},
   "outputs": [
    {
     "data": {
      "text/plain": [
       "Net(\n",
       "  (linear): Linear(in_features=1, out_features=1, bias=True)\n",
       ")"
      ]
     },
     "execution_count": 86,
     "metadata": {},
     "output_type": "execute_result"
    }
   ],
   "source": [
    "model2"
   ]
  },
  {
   "cell_type": "code",
   "execution_count": 93,
   "id": "46968942",
   "metadata": {},
   "outputs": [
    {
     "name": "stdout",
     "output_type": "stream",
     "text": [
      "Parameter containing:\n",
      "tensor([[2.0010]], device='cuda:0', requires_grad=True)\n",
      "Parameter containing:\n",
      "tensor([0.2127], device='cuda:0', requires_grad=True)\n"
     ]
    }
   ],
   "source": [
    "for para in model2.parameters():\n",
    "    print(para)"
   ]
  },
  {
   "cell_type": "code",
   "execution_count": 88,
   "id": "1ae4cdc4",
   "metadata": {},
   "outputs": [
    {
     "data": {
      "text/plain": [
       "30015.2127"
      ]
     },
     "execution_count": 88,
     "metadata": {},
     "output_type": "execute_result"
    }
   ],
   "source": [
    "2.0010*15000+0.2127"
   ]
  },
  {
   "cell_type": "code",
   "execution_count": 116,
   "id": "70ea694f",
   "metadata": {},
   "outputs": [
    {
     "data": {
      "text/plain": [
       "60.227700000000006"
      ]
     },
     "execution_count": 116,
     "metadata": {},
     "output_type": "execute_result"
    }
   ],
   "source": [
    "30*2.0005+0.2127"
   ]
  },
  {
   "cell_type": "code",
   "execution_count": 98,
   "id": "f3d982d3",
   "metadata": {},
   "outputs": [],
   "source": [
    "model3 = Net()"
   ]
  },
  {
   "cell_type": "code",
   "execution_count": 99,
   "id": "d51a2623",
   "metadata": {},
   "outputs": [
    {
     "name": "stdout",
     "output_type": "stream",
     "text": [
      "Parameter containing:\n",
      "tensor([[0.1730]], requires_grad=True)\n",
      "Parameter containing:\n",
      "tensor([0.5592], requires_grad=True)\n"
     ]
    }
   ],
   "source": [
    "for para in model3.parameters():\n",
    "    print(para)"
   ]
  },
  {
   "cell_type": "code",
   "execution_count": 112,
   "id": "be9b1d88",
   "metadata": {},
   "outputs": [
    {
     "data": {
      "text/plain": [
       "tensor([51912.2812], grad_fn=<AddBackward0>)"
      ]
     },
     "execution_count": 112,
     "metadata": {},
     "output_type": "execute_result"
    }
   ],
   "source": [
    "model3(torch.tensor([300000.000000]))"
   ]
  },
  {
   "cell_type": "code",
   "execution_count": 114,
   "id": "f07ba86c",
   "metadata": {},
   "outputs": [
    {
     "data": {
      "text/plain": [
       "51912.2592"
      ]
     },
     "execution_count": 114,
     "metadata": {},
     "output_type": "execute_result"
    }
   ],
   "source": [
    "0.173039*300000+0.5592"
   ]
  },
  {
   "cell_type": "code",
   "execution_count": 117,
   "id": "3575dda0",
   "metadata": {},
   "outputs": [],
   "source": [
    "inputs2 = x_train[:10]\n",
    "labels2 = y_train[:10]"
   ]
  },
  {
   "cell_type": "code",
   "execution_count": 118,
   "id": "8e56360b",
   "metadata": {},
   "outputs": [],
   "source": [
    "inputs2 = torch.from_numpy(inputs2)\n",
    "labels2 = torch.from_numpy(labels2)"
   ]
  },
  {
   "cell_type": "code",
   "execution_count": 119,
   "id": "f5e0a0bd",
   "metadata": {},
   "outputs": [],
   "source": [
    "optimizer3 = torch.optim.SGD(model3.parameters(), lr=1e-5)"
   ]
  },
  {
   "cell_type": "code",
   "execution_count": 228,
   "id": "c174aaf1",
   "metadata": {},
   "outputs": [
    {
     "name": "stdout",
     "output_type": "stream",
     "text": [
      "loss: 0.0008488130988553166 \n",
      "loss: 0.0007060206262394786 \n",
      "loss: 0.0005763749359175563 \n",
      "loss: 0.0005727015668526292 \n",
      "loss: 0.0005727015668526292 \n",
      "loss: 0.0005727015668526292 \n",
      "loss: 0.0005727015668526292 \n",
      "loss: 0.0005727015668526292 \n",
      "loss: 0.0005727015668526292 \n",
      "loss: 0.0005727015668526292 \n"
     ]
    }
   ],
   "source": [
    "for i in range(100000):\n",
    "    pred = model3(inputs2)\n",
    "    loss = loss_fn(pred,labels2)\n",
    "    \n",
    "    optimizer3.zero_grad()\n",
    "    loss.backward()\n",
    "    optimizer3.step()\n",
    "    \n",
    "    if i % 10000 == 0:\n",
    "            loss = loss.item()\n",
    "            print(f\"loss: {loss} \")"
   ]
  },
  {
   "cell_type": "code",
   "execution_count": 231,
   "id": "0d763077",
   "metadata": {},
   "outputs": [
    {
     "data": {
      "text/plain": [
       "tensor([19.0061], grad_fn=<AddBackward0>)"
      ]
     },
     "execution_count": 231,
     "metadata": {},
     "output_type": "execute_result"
    }
   ],
   "source": [
    "model3(torch.tensor([7.0]))"
   ]
  },
  {
   "cell_type": "code",
   "execution_count": 232,
   "id": "537750d0",
   "metadata": {},
   "outputs": [
    {
     "name": "stdout",
     "output_type": "stream",
     "text": [
      "Parameter containing:\n",
      "tensor([[2.0072]], requires_grad=True)\n",
      "Parameter containing:\n",
      "tensor([4.9556], requires_grad=True)\n"
     ]
    }
   ],
   "source": [
    "for para in model3.parameters():\n",
    "    print(para)"
   ]
  },
  {
   "cell_type": "code",
   "execution_count": 255,
   "id": "97bf5fea",
   "metadata": {},
   "outputs": [],
   "source": [
    "optimizer4 = torch.optim.SGD(model2.parameters(), lr=1e-7)"
   ]
  },
  {
   "cell_type": "code",
   "execution_count": 256,
   "id": "e19ebf3a",
   "metadata": {},
   "outputs": [
    {
     "name": "stdout",
     "output_type": "stream",
     "text": [
      "loss: 0.0004253497754689306 \n",
      "loss: 0.0004253497754689306 \n",
      "loss: 0.0004253497754689306 \n",
      "loss: 0.0004253497754689306 \n",
      "loss: 0.0004253497754689306 \n",
      "loss: 0.0004253497754689306 \n",
      "loss: 0.0004253497754689306 \n",
      "loss: 0.0004253497754689306 \n",
      "loss: 0.0004253497754689306 \n",
      "loss: 0.0004253497754689306 \n"
     ]
    }
   ],
   "source": [
    "for i in range(100000):\n",
    "    pred = model2(inputs[:10])\n",
    "    loss = loss_fn(pred,labels[:10])\n",
    "    \n",
    "    optimizer4.zero_grad()\n",
    "    loss.backward()\n",
    "    optimizer4.step()\n",
    "    \n",
    "    if i % 10000 == 0:\n",
    "            loss = loss.item()\n",
    "            print(f\"loss: {loss} \")"
   ]
  },
  {
   "cell_type": "code",
   "execution_count": 257,
   "id": "fe3053c2",
   "metadata": {},
   "outputs": [
    {
     "name": "stdout",
     "output_type": "stream",
     "text": [
      "Parameter containing:\n",
      "tensor([[2.0068]], device='cuda:0', requires_grad=True)\n",
      "Parameter containing:\n",
      "tensor([4.9617], device='cuda:0', requires_grad=True)\n"
     ]
    }
   ],
   "source": [
    "for para in model2.parameters():\n",
    "    print(para)"
   ]
  },
  {
   "cell_type": "code",
   "execution_count": 263,
   "id": "808d55d4",
   "metadata": {},
   "outputs": [
    {
     "data": {
      "text/plain": [
       "tensor([19.0027], device='cuda:0', grad_fn=<AddBackward0>)"
      ]
     },
     "execution_count": 263,
     "metadata": {},
     "output_type": "execute_result"
    }
   ],
   "source": [
    "model2(torch.tensor([7.0],device=device))"
   ]
  },
  {
   "cell_type": "code",
   "execution_count": 266,
   "id": "726e6db2",
   "metadata": {},
   "outputs": [
    {
     "data": {
      "text/plain": [
       "tensor([13.5021], device='cuda:0', grad_fn=<AddBackward0>)"
      ]
     },
     "execution_count": 266,
     "metadata": {},
     "output_type": "execute_result"
    }
   ],
   "source": [
    "model(torch.tensor([7.0],device=device))"
   ]
  },
  {
   "cell_type": "code",
   "execution_count": 264,
   "id": "7ba0c79d",
   "metadata": {},
   "outputs": [
    {
     "name": "stdout",
     "output_type": "stream",
     "text": [
      "Parameter containing:\n",
      "tensor([[ 0.0898],\n",
      "        [ 1.0134],\n",
      "        [-0.5970],\n",
      "        [-0.8821],\n",
      "        [ 0.0586],\n",
      "        [ 0.8664],\n",
      "        [ 0.2705],\n",
      "        [-0.1725],\n",
      "        [ 0.8910],\n",
      "        [ 0.8676],\n",
      "        [-0.0288],\n",
      "        [-0.0254],\n",
      "        [-0.7190],\n",
      "        [ 0.8195],\n",
      "        [ 0.4827],\n",
      "        [ 0.9346],\n",
      "        [-0.9136],\n",
      "        [ 0.5438],\n",
      "        [-0.7012],\n",
      "        [ 0.7345]], device='cuda:0', requires_grad=True)\n",
      "Parameter containing:\n",
      "tensor([ 0.0563,  0.1388,  0.0828, -0.4427, -0.7669, -0.0726,  0.6208, -0.8709,\n",
      "         0.6948, -0.6680,  0.1063,  0.4701,  0.9915, -0.0704,  0.7291, -0.6851,\n",
      "         0.9482, -0.3847, -0.8657,  0.7386], device='cuda:0',\n",
      "       requires_grad=True)\n",
      "Parameter containing:\n",
      "tensor([[ 0.1651,  0.2446,  0.2232, -0.2217, -0.1120,  0.2216, -0.0637, -0.2230,\n",
      "          0.2353, -0.0814, -0.2078, -0.1076,  0.0460,  0.1750,  0.0428,  0.2284,\n",
      "         -0.0022, -0.0656, -0.0921,  0.1247],\n",
      "        [ 0.1695,  0.0272, -0.0497, -0.1869, -0.1135, -0.0877,  0.1075,  0.1084,\n",
      "         -0.0847,  0.0786, -0.1448, -0.1827,  0.1809,  0.1654, -0.0050, -0.0417,\n",
      "         -0.2015, -0.0189, -0.2195, -0.1096],\n",
      "        [ 0.2188, -0.0246, -0.2089, -0.1011, -0.1854, -0.0515,  0.0826, -0.2014,\n",
      "         -0.2009, -0.2066,  0.0538,  0.1115,  0.0276, -0.0365,  0.2153, -0.2148,\n",
      "          0.1741,  0.2222,  0.2092, -0.0448],\n",
      "        [-0.2058, -0.1881, -0.1354,  0.1656,  0.2165,  0.0840,  0.2006, -0.1938,\n",
      "          0.0960,  0.1895, -0.1155, -0.2050, -0.0249, -0.0290,  0.0514, -0.2062,\n",
      "          0.2063, -0.0115,  0.1766, -0.1724],\n",
      "        [ 0.1356,  0.0209, -0.1122, -0.1272,  0.1321, -0.0125, -0.1476,  0.0007,\n",
      "         -0.1190,  0.1614, -0.1423,  0.2233, -0.0259, -0.1614,  0.1716,  0.1665,\n",
      "          0.1620,  0.0420, -0.1861, -0.2090],\n",
      "        [-0.0607, -0.0808, -0.0435, -0.1666, -0.1319, -0.1729,  0.0972,  0.1310,\n",
      "         -0.0840,  0.0833,  0.0083,  0.1682,  0.2051,  0.2063, -0.1690,  0.0142,\n",
      "         -0.0883, -0.1299, -0.1330, -0.0399],\n",
      "        [ 0.0971,  0.4476, -0.1989, -0.1751,  0.2236,  0.2539,  0.0316,  0.0972,\n",
      "          0.1254,  0.3928, -0.1913, -0.0779,  0.1599,  0.2408,  0.0586,  0.4154,\n",
      "          0.1436,  0.2055, -0.1791,  0.2658],\n",
      "        [ 0.0472, -0.2183, -0.0716, -0.2155,  0.1397,  0.0258, -0.0903, -0.1726,\n",
      "         -0.0772, -0.0100, -0.0826,  0.1439, -0.0942, -0.1032,  0.1778, -0.1129,\n",
      "         -0.1495, -0.0971, -0.1740, -0.0839],\n",
      "        [-0.0192, -0.1746,  0.1517,  0.0531,  0.0247,  0.0692,  0.0510, -0.0433,\n",
      "          0.1229,  0.1670,  0.1648,  0.1644,  0.1580, -0.0320, -0.0437, -0.1825,\n",
      "         -0.1430,  0.1251, -0.0199, -0.0209],\n",
      "        [-0.1726, -0.0970,  0.1614, -0.0442,  0.1294, -0.0267, -0.2278,  0.1043,\n",
      "          0.0523,  0.0590, -0.1794,  0.0338,  0.1240,  0.0100,  0.0103,  0.1558,\n",
      "          0.0261, -0.1797, -0.0305,  0.0418]], device='cuda:0',\n",
      "       requires_grad=True)\n",
      "Parameter containing:\n",
      "tensor([-0.1169, -0.2100,  0.0665, -0.0677,  0.0823,  0.0307, -0.2188,  0.1208,\n",
      "         0.0161,  0.1436], device='cuda:0', requires_grad=True)\n",
      "Parameter containing:\n",
      "tensor([[ 0.2993, -0.2443,  0.1623, -0.2037, -0.1578,  0.2409,  0.8186,  0.2185,\n",
      "         -0.3030, -0.2080]], device='cuda:0', requires_grad=True)\n",
      "Parameter containing:\n",
      "tensor([-0.0497], device='cuda:0', requires_grad=True)\n"
     ]
    }
   ],
   "source": [
    "for para in model.parameters():\n",
    "    print(para)"
   ]
  },
  {
   "cell_type": "code",
   "execution_count": 267,
   "id": "f8fea12d",
   "metadata": {},
   "outputs": [],
   "source": [
    "import torchvision.models as models"
   ]
  },
  {
   "cell_type": "code",
   "execution_count": 268,
   "id": "74dc22a4",
   "metadata": {},
   "outputs": [
    {
     "name": "stderr",
     "output_type": "stream",
     "text": [
      "Downloading: \"https://download.pytorch.org/models/vgg16-397923af.pth\" to C:\\Users\\hcl90/.cache\\torch\\hub\\checkpoints\\vgg16-397923af.pth\n",
      "100.0%\n"
     ]
    }
   ],
   "source": [
    "model_vgg = models.vgg16(pretrained=True)\n",
    "torch.save(model.state_dict(), 'model_weights.pth')"
   ]
  },
  {
   "cell_type": "code",
   "execution_count": 270,
   "id": "65ba535d",
   "metadata": {},
   "outputs": [],
   "source": [
    "torch.save(model2,\"./data/model2\")"
   ]
  },
  {
   "cell_type": "code",
   "execution_count": 271,
   "id": "a5291ed2",
   "metadata": {},
   "outputs": [],
   "source": [
    "model_best = torch.load('./data/model2')"
   ]
  },
  {
   "cell_type": "code",
   "execution_count": 272,
   "id": "73ac0e41",
   "metadata": {},
   "outputs": [
    {
     "data": {
      "text/plain": [
       "tensor([19.0027], device='cuda:0', grad_fn=<AddBackward0>)"
      ]
     },
     "execution_count": 272,
     "metadata": {},
     "output_type": "execute_result"
    }
   ],
   "source": [
    "model_best(torch.tensor([7.0],device=device))"
   ]
  },
  {
   "cell_type": "code",
   "execution_count": 273,
   "id": "18da1d14",
   "metadata": {},
   "outputs": [
    {
     "data": {
      "text/plain": [
       "Net(\n",
       "  (linear): Linear(in_features=1, out_features=1, bias=True)\n",
       ")"
      ]
     },
     "execution_count": 273,
     "metadata": {},
     "output_type": "execute_result"
    }
   ],
   "source": [
    "model_best.eval()"
   ]
  },
  {
   "cell_type": "code",
   "execution_count": 281,
   "id": "5be819e1",
   "metadata": {},
   "outputs": [
    {
     "ename": "RuntimeError",
     "evalue": "CUDA error: unknown error",
     "output_type": "error",
     "traceback": [
      "\u001b[1;31m---------------------------------------------------------------------------\u001b[0m",
      "\u001b[1;31mRuntimeError\u001b[0m                              Traceback (most recent call last)",
      "Input \u001b[1;32mIn [281]\u001b[0m, in \u001b[0;36m<cell line: 1>\u001b[1;34m()\u001b[0m\n\u001b[1;32m----> 1\u001b[0m model_best(\u001b[43mtorch\u001b[49m\u001b[38;5;241;43m.\u001b[39;49m\u001b[43mtensor\u001b[49m\u001b[43m(\u001b[49m\u001b[43m[\u001b[49m\u001b[38;5;241;43m1000.0\u001b[39;49m\u001b[43m]\u001b[49m\u001b[43m,\u001b[49m\u001b[43mdevice\u001b[49m\u001b[38;5;241;43m=\u001b[39;49m\u001b[43mdevice\u001b[49m\u001b[43m)\u001b[49m)\n",
      "\u001b[1;31mRuntimeError\u001b[0m: CUDA error: unknown error"
     ]
    }
   ],
   "source": [
    "model_best(torch.tensor([1000.0],device=device))"
   ]
  },
  {
   "cell_type": "code",
   "execution_count": 280,
   "id": "45352e2d",
   "metadata": {},
   "outputs": [
    {
     "data": {
      "text/plain": [
       "2011.6616999999999"
      ]
     },
     "execution_count": 280,
     "metadata": {},
     "output_type": "execute_result"
    }
   ],
   "source": [
    "2.0067*1000+4.9617"
   ]
  },
  {
   "cell_type": "code",
   "execution_count": null,
   "id": "f0bdf40a",
   "metadata": {},
   "outputs": [],
   "source": []
  }
 ],
 "metadata": {
  "kernelspec": {
   "display_name": "Python 3.8.13 ('torch180env')",
   "language": "python",
   "name": "python3"
  },
  "language_info": {
   "codemirror_mode": {
    "name": "ipython",
    "version": 3
   },
   "file_extension": ".py",
   "mimetype": "text/x-python",
   "name": "python",
   "nbconvert_exporter": "python",
   "pygments_lexer": "ipython3",
   "version": "3.8.13"
  },
  "vscode": {
   "interpreter": {
    "hash": "c68ab8fef8d09dd8a15d6c1b1236e2581609f78619e152c58bb57b509b8938e0"
   }
  }
 },
 "nbformat": 4,
 "nbformat_minor": 5
}
