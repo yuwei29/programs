{
 "cells": [
  {
   "cell_type": "code",
   "execution_count": 1,
   "metadata": {},
   "outputs": [],
   "source": [
    "from game import game"
   ]
  },
  {
   "cell_type": "code",
   "execution_count": 11,
   "metadata": {},
   "outputs": [
    {
     "data": {
      "text/plain": [
       "('black',\n",
       " tensor([[-1.,  0.,  0.],\n",
       "         [-1.,  0.,  0.],\n",
       "         [ 1.,  1.,  1.]]),\n",
       " [('black', (2, 1)),\n",
       "  ('white', (1, 0)),\n",
       "  ('black', (2, 0)),\n",
       "  ('white', (0, 0)),\n",
       "  ('black', (2, 2))])"
      ]
     },
     "execution_count": 11,
     "metadata": {},
     "output_type": "execute_result"
    }
   ],
   "source": [
    "game('greedy')"
   ]
  },
  {
   "cell_type": "code",
   "execution_count": 12,
   "metadata": {},
   "outputs": [],
   "source": [
    "cntB,cntW,cntT = 0,0,0"
   ]
  },
  {
   "cell_type": "code",
   "execution_count": 13,
   "metadata": {},
   "outputs": [
    {
     "name": "stdout",
     "output_type": "stream",
     "text": [
      "720 236 44\n"
     ]
    }
   ],
   "source": [
    "for i in range(1000):\n",
    "    res,_,_ = game('greedy')\n",
    "    cntB+=(res=='black')\n",
    "    cntW+=(res=='white')\n",
    "    cntT+=(res=='tie')\n",
    "print(cntB,cntW,cntT)"
   ]
  },
  {
   "cell_type": "code",
   "execution_count": 220,
   "metadata": {},
   "outputs": [
    {
     "data": {
      "text/plain": [
       "('tie',\n",
       " tensor([[-1.,  1.,  1.],\n",
       "         [ 1., -1., -1.],\n",
       "         [ 1., -1.,  1.]]),\n",
       " [('black', (1, 0)),\n",
       "  ('white', (0, 0)),\n",
       "  ('black', (0, 2)),\n",
       "  ('white', (2, 1)),\n",
       "  ('black', (2, 2)),\n",
       "  ('white', (1, 2)),\n",
       "  ('black', (2, 0)),\n",
       "  ('white', (1, 1)),\n",
       "  ('black', (0, 1))])"
      ]
     },
     "execution_count": 220,
     "metadata": {},
     "output_type": "execute_result"
    }
   ],
   "source": [
    "game('greedy')"
   ]
  },
  {
   "cell_type": "code",
   "execution_count": 36,
   "metadata": {},
   "outputs": [],
   "source": [
    "cntB,cntW,cntT = 0,0,0"
   ]
  },
  {
   "cell_type": "code",
   "execution_count": 45,
   "metadata": {},
   "outputs": [
    {
     "name": "stdout",
     "output_type": "stream",
     "text": [
      "2969 1292 739\n"
     ]
    }
   ],
   "source": [
    "for i in range(4000):\n",
    "    res,_,_ = game('greedy')\n",
    "    cntB+=(res=='black')\n",
    "    cntW+=(res=='white')\n",
    "    cntT+=(res=='tie')\n",
    "print(cntB,cntW,cntT)"
   ]
  }
 ],
 "metadata": {
  "kernelspec": {
   "display_name": "Python 3 (ipykernel)",
   "language": "python",
   "name": "python3"
  },
  "language_info": {
   "codemirror_mode": {
    "name": "ipython",
    "version": 3
   },
   "file_extension": ".py",
   "mimetype": "text/x-python",
   "name": "python",
   "nbconvert_exporter": "python",
   "pygments_lexer": "ipython3",
   "version": "3.9.12"
  },
  "vscode": {
   "interpreter": {
    "hash": "c68ab8fef8d09dd8a15d6c1b1236e2581609f78619e152c58bb57b509b8938e0"
   }
  }
 },
 "nbformat": 4,
 "nbformat_minor": 2
}
