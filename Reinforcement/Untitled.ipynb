{
 "cells": [
  {
   "cell_type": "code",
   "execution_count": 1,
   "id": "3162bf31",
   "metadata": {},
   "outputs": [],
   "source": [
    "import torch"
   ]
  },
  {
   "cell_type": "code",
   "execution_count": 2,
   "id": "6ec7feac",
   "metadata": {},
   "outputs": [],
   "source": [
    "torch?"
   ]
  },
  {
   "cell_type": "code",
   "execution_count": null,
   "id": "f87f17f4",
   "metadata": {},
   "outputs": [],
   "source": []
  }
 ],
 "metadata": {
  "kernelspec": {
   "display_name": "Python [conda env:torch180env]",
   "language": "python",
   "name": "conda-env-torch180env-py"
  },
  "language_info": {
   "codemirror_mode": {
    "name": "ipython",
    "version": 3
   },
   "file_extension": ".py",
   "mimetype": "text/x-python",
   "name": "python",
   "nbconvert_exporter": "python",
   "pygments_lexer": "ipython3",
   "version": "3.8.13"
  }
 },
 "nbformat": 4,
 "nbformat_minor": 5
}
