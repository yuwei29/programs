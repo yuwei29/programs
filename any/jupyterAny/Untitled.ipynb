{
 "cells": [
  {
   "cell_type": "code",
   "execution_count": 1,
   "id": "3706c710",
   "metadata": {},
   "outputs": [
    {
     "data": {
      "application/javascript": [
       "const a = 2\n",
       "let zone = {f1:x=>console.log(x+2),f2:x=>x+5}\n",
       "zone.f1(5)\n"
      ],
      "text/plain": [
       "<IPython.core.display.Javascript object>"
      ]
     },
     "metadata": {},
     "output_type": "display_data"
    }
   ],
   "source": [
    "%%javascript\n",
    "const a = 2\n",
    "let zone = {f1:x=>console.log(x+2),f2:x=>x+5}\n",
    "zone.f1(5)"
   ]
  },
  {
   "cell_type": "code",
   "execution_count": 2,
   "id": "26fd2642",
   "metadata": {},
   "outputs": [
    {
     "ename": "NameError",
     "evalue": "name 'a' is not defined",
     "output_type": "error",
     "traceback": [
      "\u001b[1;31m---------------------------------------------------------------------------\u001b[0m",
      "\u001b[1;31mNameError\u001b[0m                                 Traceback (most recent call last)",
      "Input \u001b[1;32mIn [2]\u001b[0m, in \u001b[0;36m<cell line: 1>\u001b[1;34m()\u001b[0m\n\u001b[1;32m----> 1\u001b[0m \u001b[38;5;28mprint\u001b[39m(\u001b[43ma\u001b[49m)\n",
      "\u001b[1;31mNameError\u001b[0m: name 'a' is not defined"
     ]
    }
   ],
   "source": [
    "print(a)"
   ]
  },
  {
   "cell_type": "code",
   "execution_count": 3,
   "id": "b4e5a362",
   "metadata": {},
   "outputs": [
    {
     "data": {
      "application/javascript": [
       "let c = zone.f2(7)\n",
       "console.log(c)\n"
      ],
      "text/plain": [
       "<IPython.core.display.Javascript object>"
      ]
     },
     "metadata": {},
     "output_type": "display_data"
    }
   ],
   "source": [
    "%%javascript\n",
    "let c = zone.f2(7)\n",
    "console.log(c)"
   ]
  },
  {
   "cell_type": "code",
   "execution_count": null,
   "id": "53dd9b9e",
   "metadata": {},
   "outputs": [],
   "source": []
  }
 ],
 "metadata": {
  "kernelspec": {
   "display_name": "Python [conda env:torch180env]",
   "language": "python",
   "name": "conda-env-torch180env-py"
  },
  "language_info": {
   "codemirror_mode": {
    "name": "ipython",
    "version": 3
   },
   "file_extension": ".py",
   "mimetype": "text/x-python",
   "name": "python",
   "nbconvert_exporter": "python",
   "pygments_lexer": "ipython3",
   "version": "3.8.13"
  }
 },
 "nbformat": 4,
 "nbformat_minor": 5
}
